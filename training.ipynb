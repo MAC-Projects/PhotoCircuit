{
 "cells": [
  {
   "attachments": {},
   "cell_type": "markdown",
   "id": "45ac5069",
   "metadata": {},
   "source": [
    "Define and train the network based on the dataset"
   ]
  },
  {
   "cell_type": "code",
   "execution_count": null,
   "id": "2161aa5d",
   "metadata": {
    "scrolled": true
   },
   "outputs": [],
   "source": [
    "import tensorflow as tf\n",
    "import numpy as np\n",
    "import matplotlib.pyplot as plt\n",
    "import os\n",
    "\n",
    "print(tf.__version__)\n",
    "\n",
    "dataset_directory = 'dataset_final'\n",
    "image_size = (120, 120) # (height, width)\n",
    "batch_size = 64\n",
    "classes = sorted(os.listdir(dataset_directory))\n",
    "\n",
    "print(classes)\n",
    "\n",
    "training_dataset = tf.keras.preprocessing.image_dataset_from_directory(\n",
    "    dataset_directory,\n",
    "    color_mode='grayscale',\n",
    "    batch_size=batch_size,\n",
    "    image_size=image_size,\n",
    "    seed=1234,\n",
    "    validation_split=0.2,\n",
    "    subset='training')\n",
    "\n",
    "validation_dataset = tf.keras.preprocessing.image_dataset_from_directory(\n",
    "    dataset_directory,\n",
    "    color_mode='grayscale',\n",
    "    batch_size=batch_size,\n",
    "    image_size=image_size,\n",
    "    seed=1234,\n",
    "    validation_split=0.2,\n",
    "    subset='validation')\n",
    "\n",
    "training_dataset = training_dataset.cache().prefetch(tf.data.AUTOTUNE)\n",
    "validation_dataset = validation_dataset.cache().prefetch(tf.data.AUTOTUNE)\n",
    "\n",
    "\n",
    "model = tf.keras.Sequential([\n",
    "    tf.keras.layers.Rescaling(1./255., input_shape=(image_size[0], image_size[1], 1)),\n",
    "\n",
    "    tf.keras.layers.Conv2D(16, 3, padding='same'),\n",
    "    tf.keras.layers.ReLU(),\n",
    "    tf.keras.layers.MaxPooling2D(),\n",
    "    tf.keras.layers.Dropout(0.5),\n",
    "\n",
    "    tf.keras.layers.Conv2D(32, 3, padding='same'),\n",
    "    tf.keras.layers.ReLU(),\n",
    "    tf.keras.layers.MaxPooling2D(),\n",
    "    tf.keras.layers.Dropout(0.5),\n",
    "\n",
    "    tf.keras.layers.Conv2D(64, 3, padding='same'),\n",
    "    tf.keras.layers.ReLU(),\n",
    "    tf.keras.layers.MaxPooling2D(),\n",
    "    tf.keras.layers.Dropout(0.5),\n",
    "\n",
    "    tf.keras.layers.Conv2D(128, 3, padding='same'),\n",
    "    tf.keras.layers.ReLU(),\n",
    "    tf.keras.layers.MaxPooling2D(),\n",
    "    tf.keras.layers.Dropout(0.5),\n",
    "\n",
    "    tf.keras.layers.Conv2D(256, 3, padding='same'),\n",
    "    tf.keras.layers.ReLU(),\n",
    "    tf.keras.layers.MaxPooling2D(),\n",
    "\n",
    "    tf.keras.layers.Flatten(),\n",
    "    tf.keras.layers.Dense(4096),\n",
    "    tf.keras.layers.ReLU(),\n",
    "    tf.keras.layers.Dense(len(classes))\n",
    "])\n",
    "\n",
    "model.compile(\n",
    "    optimizer='adam',\n",
    "    loss=tf.losses.SparseCategoricalCrossentropy(from_logits=True),\n",
    "    metrics=['accuracy'])\n",
    "\n",
    "callback = tf.keras.callbacks.EarlyStopping(monitor='val_loss', patience=10, restore_best_weights=True)\n",
    "\n",
    "history = model.fit(training_dataset, validation_data=validation_dataset, epochs=100, callbacks=[callback])\n",
    "\n",
    "acc = history.history['accuracy']\n",
    "val_acc = history.history['val_accuracy']\n",
    "loss = history.history['loss']\n",
    "val_loss = history.history['val_loss']\n",
    "\n",
    "epochs = range(1, len(acc) + 1)\n",
    "\n",
    "plt.plot(epochs, acc, 'r', label='Training acc')\n",
    "plt.plot(epochs, val_acc, 'b', label='Validation acc')\n",
    "plt.title('Training and validation accuracy')\n",
    "plt.legend()\n",
    "\n",
    "plt.figure()\n",
    "\n",
    "plt.plot(epochs, loss, 'r', label='Training loss')\n",
    "plt.plot(epochs, val_loss, 'b', label='Validation loss')\n",
    "plt.title('Training and validation loss')\n",
    "plt.legend()\n",
    "\n",
    "plt.show()\n",
    "\n",
    "model.save('classification_model_final_d.hdf5')"
   ]
  },
  {
   "cell_type": "code",
   "execution_count": null,
   "id": "3cac4658",
   "metadata": {},
   "outputs": [],
   "source": [
    "model.summary()"
   ]
  },
  {
   "cell_type": "code",
   "execution_count": null,
   "id": "7fb7676c",
   "metadata": {
    "scrolled": true
   },
   "outputs": [],
   "source": [
    "import tensorflow as tf\n",
    "import numpy as np\n",
    "import matplotlib.pyplot as plt\n",
    "import cv2\n",
    "import os\n",
    "\n",
    "dataset_directory = 'dataset_final'\n",
    "image_filename = 'image.png'\n",
    "\n",
    "img = cv2.imread(image_filename, cv2.IMREAD_GRAYSCALE)\n",
    "img = cv2.resize(img, (120, 120))\n",
    "#img = cv2.bitwise_not(img)\n",
    "\n",
    "plt.figure()\n",
    "plt.imshow(img, cmap='gray')\n",
    "\n",
    "probability_model = tf.keras.models.load_model('classification_model_final.hdf5')\n",
    "#probability_model = tf.keras.Sequential([model, tf.keras.layers.Softmax()])\n",
    "\n",
    "probability_model.summary()\n",
    "\n",
    "img_batch = np.array([img])\n",
    "\n",
    "probabilities = probability_model.predict(img_batch)\n",
    "\n",
    "classes = sorted(os.listdir(dataset_directory))\n",
    "prob_dict = {}\n",
    "for i in range(len(classes)):\n",
    "    prob_dict[classes[i]] = probabilities[0][i]\n",
    "\n",
    "class_index = np.argmax(probabilities)\n",
    "print(classes[class_index], 'probability:', probabilities[0][class_index])\n",
    "import pprint\n",
    "pprint.pprint(prob_dict)"
   ]
  },
  {
   "cell_type": "markdown",
   "id": "f377c7d7",
   "metadata": {},
   "source": [
    "Add the `Softmax` layer to the model"
   ]
  },
  {
   "cell_type": "code",
   "execution_count": null,
   "id": "c0b7d3dc",
   "metadata": {},
   "outputs": [],
   "source": [
    "import tensorflow as tf\n",
    "\n",
    "model = tf.keras.models.load_model('classification_model_final_c.hdf5')\n",
    "probability_model = tf.keras.Sequential([model, tf.keras.layers.Softmax()])\n",
    "\n",
    "probability_model.save('classification_model_final_c_prob.hdf5')"
   ]
  },
  {
   "cell_type": "markdown",
   "id": "dd0fa4f2",
   "metadata": {},
   "source": [
    "Convert the model to TFLite"
   ]
  },
  {
   "cell_type": "code",
   "execution_count": null,
   "id": "a29a49fd",
   "metadata": {},
   "outputs": [],
   "source": [
    "import tensorflow as tf\n",
    "\n",
    "model = tf.keras.models.load_model('classification_model_final_c_prob.hdf5')\n",
    "converter = tf.lite.TFLiteConverter.from_keras_model(model)\n",
    "tflite_model = converter.convert()\n",
    "with open('classification_model_final_c_prob.tflite', 'wb') as f:\n",
    "    f.write(tflite_model)"
   ]
  }
 ],
 "metadata": {
  "kernelspec": {
   "display_name": "Python 3 (ipykernel)",
   "language": "python",
   "name": "python3"
  },
  "language_info": {
   "codemirror_mode": {
    "name": "ipython",
    "version": 3
   },
   "file_extension": ".py",
   "mimetype": "text/x-python",
   "name": "python",
   "nbconvert_exporter": "python",
   "pygments_lexer": "ipython3",
   "version": "3.10.10"
  }
 },
 "nbformat": 4,
 "nbformat_minor": 5
}
